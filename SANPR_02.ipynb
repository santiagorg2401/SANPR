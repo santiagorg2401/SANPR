{
  "nbformat": 4,
  "nbformat_minor": 0,
  "metadata": {
    "colab": {
      "provenance": [],
      "include_colab_link": true
    },
    "kernelspec": {
      "name": "python3",
      "display_name": "Python 3"
    },
    "language_info": {
      "name": "python"
    }
  },
  "cells": [
    {
      "cell_type": "markdown",
      "metadata": {
        "id": "view-in-github",
        "colab_type": "text"
      },
      "source": [
        "<a href=\"https://colab.research.google.com/github/santiagorg2401/SANPR/blob/main/SANPR_02.ipynb\" target=\"_parent\"><img src=\"https://colab.research.google.com/assets/colab-badge.svg\" alt=\"Open In Colab\"/></a>"
      ]
    },
    {
      "cell_type": "markdown",
      "source": [
        "# Secure Automatic Number-Plate Recognition: License Plate OCR.\n",
        "\n",
        "Detect license plate characters."
      ],
      "metadata": {
        "id": "REKTlZgwwDB_"
      }
    },
    {
      "cell_type": "markdown",
      "source": [
        "## Solve importations."
      ],
      "metadata": {
        "id": "eE_V4j7wxnC4"
      }
    },
    {
      "cell_type": "code",
      "source": [
        "import os\n",
        "import re\n",
        "import cv2 as cv\n",
        "import matplotlib.pyplot as plt\n",
        "from PIL import Image\n",
        "try:\n",
        "  import pytesseract\n",
        "except:\n",
        "  ! apt install tesseract-ocr\n",
        "  ! apt install libtesseract-dev\n",
        "  ! pip install pytesseract\n",
        "  import pytesseract"
      ],
      "metadata": {
        "id": "5XUEti2UxpbK"
      },
      "execution_count": 21,
      "outputs": []
    },
    {
      "cell_type": "markdown",
      "source": [
        "## OCR using Tesseract."
      ],
      "metadata": {
        "id": "wdu33IdKXQJv"
      }
    },
    {
      "cell_type": "code",
      "source": [
        "PATH = 'testplate.jpg'\n",
        "\n",
        "# Grayscale, Gaussian blur, Otsu's threshold\n",
        "image = cv.imread(PATH)\n",
        "\n",
        "# Convert the image from BGR to grayscale.\n",
        "im_gray = cv.cvtColor(image, cv.COLOR_BGR2GRAY)\n",
        "\n",
        "# Binarize the grayscale image.\n",
        "th, img_bw = cv.threshold(im_gray, 128, 192, cv.THRESH_OTSU)\n",
        "\n",
        "plt.imshow(img_bw)\n",
        "plt.axis(False)\n",
        "\n",
        "# Perform text extraction\n",
        "license_plate = pytesseract.image_to_string(img_bw, lang='eng', config='--psm 6')\n",
        "\n",
        "# Filter license plate string to only contain letters and numbers\n",
        "license_plate = re.findall(\"[A0-Z9]\", license_plate)\n",
        "\n",
        "print(license_plate)"
      ],
      "metadata": {
        "colab": {
          "base_uri": "https://localhost:8080/",
          "height": 295
        },
        "id": "t2weERRq1d30",
        "outputId": "1ae72214-4b30-4501-992d-0abcbd9e75ca"
      },
      "execution_count": 34,
      "outputs": [
        {
          "output_type": "stream",
          "name": "stdout",
          "text": [
            "['J', 'N', 'U', '5', '4', '0']\n"
          ]
        },
        {
          "output_type": "display_data",
          "data": {
            "text/plain": [
              "<Figure size 640x480 with 1 Axes>"
            ],
            "image/png": "[encoded data removed]"
          },
          "metadata": {}
        }
      ]
    }
  ]
}